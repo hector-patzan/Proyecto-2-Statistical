{
 "cells": [
  {
   "cell_type": "markdown",
   "metadata": {},
   "source": [
    "# <b> Carga de librerias: </b>"
   ]
  },
  {
   "cell_type": "code",
   "execution_count": 1,
   "metadata": {},
   "outputs": [],
   "source": [
    "import pandas as pd \n",
    "import numpy as np\n",
    "import seaborn as sns\n",
    "import matplotlib.pyplot as plt\n",
    "from scipy import stats\n",
    "import modules\n",
    "import preprocessors as pp \n",
    "from sklearn.pipeline import Pipeline\n",
    "from sklearn.preprocessing import StandardScaler #Estandarizador"
   ]
  },
  {
   "cell_type": "markdown",
   "metadata": {},
   "source": [
    "# <b>Carga de datos:</b>"
   ]
  },
  {
   "cell_type": "code",
   "execution_count": 2,
   "metadata": {},
   "outputs": [
    {
     "data": {
      "text/html": [
       "<div>\n",
       "<style scoped>\n",
       "    .dataframe tbody tr th:only-of-type {\n",
       "        vertical-align: middle;\n",
       "    }\n",
       "\n",
       "    .dataframe tbody tr th {\n",
       "        vertical-align: top;\n",
       "    }\n",
       "\n",
       "    .dataframe thead th {\n",
       "        text-align: right;\n",
       "    }\n",
       "</style>\n",
       "<table border=\"1\" class=\"dataframe\">\n",
       "  <thead>\n",
       "    <tr style=\"text-align: right;\">\n",
       "      <th></th>\n",
       "      <th>BUCKET</th>\n",
       "      <th>DIAS_MORA</th>\n",
       "      <th>DIAS_INCUMPLIMIENTO</th>\n",
       "      <th>MET_CALCULO</th>\n",
       "      <th>MARCA_DEFAULT</th>\n",
       "      <th>PDI</th>\n",
       "      <th>RANGO_SCORE_PN</th>\n",
       "      <th>seg_PD12mes</th>\n",
       "      <th>PD_12M_ACTUAL_FINAL</th>\n",
       "      <th>PD_12M_DESEMBOLSO_FINAL</th>\n",
       "      <th>PD_LIFETIME_ACTUAL_FINAL</th>\n",
       "      <th>PD_LIFETIME_DESEMBOLSO_FINAL</th>\n",
       "      <th>EXPOSICION_TOTAL_FA</th>\n",
       "      <th>VALOR_PROVISION</th>\n",
       "      <th>cobertura</th>\n",
       "      <th>target</th>\n",
       "    </tr>\n",
       "  </thead>\n",
       "  <tbody>\n",
       "    <tr>\n",
       "      <th>0</th>\n",
       "      <td>1</td>\n",
       "      <td>0</td>\n",
       "      <td>NaN</td>\n",
       "      <td>ECL_12M</td>\n",
       "      <td>0</td>\n",
       "      <td>0.50798</td>\n",
       "      <td>1.0</td>\n",
       "      <td>PN_CURA</td>\n",
       "      <td>0.325910</td>\n",
       "      <td>0.325910</td>\n",
       "      <td>0.304117</td>\n",
       "      <td>0.066976</td>\n",
       "      <td>3142.9200</td>\n",
       "      <td>520.328516</td>\n",
       "      <td>0.165556</td>\n",
       "      <td>Al dia</td>\n",
       "    </tr>\n",
       "    <tr>\n",
       "      <th>1</th>\n",
       "      <td>1</td>\n",
       "      <td>0</td>\n",
       "      <td>NaN</td>\n",
       "      <td>ECL_12M</td>\n",
       "      <td>0</td>\n",
       "      <td>0.50798</td>\n",
       "      <td>2.0</td>\n",
       "      <td>PN_CURA</td>\n",
       "      <td>0.425376</td>\n",
       "      <td>0.425376</td>\n",
       "      <td>0.432310</td>\n",
       "      <td>0.220604</td>\n",
       "      <td>33364.3717</td>\n",
       "      <td>7956.298017</td>\n",
       "      <td>0.238467</td>\n",
       "      <td>Al dia</td>\n",
       "    </tr>\n",
       "    <tr>\n",
       "      <th>2</th>\n",
       "      <td>1</td>\n",
       "      <td>0</td>\n",
       "      <td>NaN</td>\n",
       "      <td>ECL_12M</td>\n",
       "      <td>0</td>\n",
       "      <td>0.50798</td>\n",
       "      <td>3.0</td>\n",
       "      <td>PN_CURA</td>\n",
       "      <td>0.445730</td>\n",
       "      <td>0.445730</td>\n",
       "      <td>0.457113</td>\n",
       "      <td>0.245921</td>\n",
       "      <td>106599.3731</td>\n",
       "      <td>26970.279477</td>\n",
       "      <td>0.253006</td>\n",
       "      <td>Al dia</td>\n",
       "    </tr>\n",
       "    <tr>\n",
       "      <th>3</th>\n",
       "      <td>1</td>\n",
       "      <td>0</td>\n",
       "      <td>NaN</td>\n",
       "      <td>ECL_12M</td>\n",
       "      <td>0</td>\n",
       "      <td>0.50798</td>\n",
       "      <td>4.0</td>\n",
       "      <td>PN_CURA</td>\n",
       "      <td>0.434547</td>\n",
       "      <td>0.434547</td>\n",
       "      <td>0.455007</td>\n",
       "      <td>0.257770</td>\n",
       "      <td>137366.7897</td>\n",
       "      <td>34997.765487</td>\n",
       "      <td>0.254776</td>\n",
       "      <td>Al dia</td>\n",
       "    </tr>\n",
       "    <tr>\n",
       "      <th>4</th>\n",
       "      <td>1</td>\n",
       "      <td>0</td>\n",
       "      <td>NaN</td>\n",
       "      <td>ECL_12M</td>\n",
       "      <td>0</td>\n",
       "      <td>0.50798</td>\n",
       "      <td>5.0</td>\n",
       "      <td>PN_CURA</td>\n",
       "      <td>0.343117</td>\n",
       "      <td>0.343117</td>\n",
       "      <td>0.404523</td>\n",
       "      <td>0.217305</td>\n",
       "      <td>95085.2122</td>\n",
       "      <td>23860.250873</td>\n",
       "      <td>0.250935</td>\n",
       "      <td>Al dia</td>\n",
       "    </tr>\n",
       "  </tbody>\n",
       "</table>\n",
       "</div>"
      ],
      "text/plain": [
       "   BUCKET  DIAS_MORA  DIAS_INCUMPLIMIENTO MET_CALCULO  MARCA_DEFAULT      PDI  \\\n",
       "0       1          0                  NaN     ECL_12M              0  0.50798   \n",
       "1       1          0                  NaN     ECL_12M              0  0.50798   \n",
       "2       1          0                  NaN     ECL_12M              0  0.50798   \n",
       "3       1          0                  NaN     ECL_12M              0  0.50798   \n",
       "4       1          0                  NaN     ECL_12M              0  0.50798   \n",
       "\n",
       "   RANGO_SCORE_PN seg_PD12mes  PD_12M_ACTUAL_FINAL  PD_12M_DESEMBOLSO_FINAL  \\\n",
       "0             1.0     PN_CURA             0.325910                 0.325910   \n",
       "1             2.0     PN_CURA             0.425376                 0.425376   \n",
       "2             3.0     PN_CURA             0.445730                 0.445730   \n",
       "3             4.0     PN_CURA             0.434547                 0.434547   \n",
       "4             5.0     PN_CURA             0.343117                 0.343117   \n",
       "\n",
       "   PD_LIFETIME_ACTUAL_FINAL  PD_LIFETIME_DESEMBOLSO_FINAL  \\\n",
       "0                  0.304117                      0.066976   \n",
       "1                  0.432310                      0.220604   \n",
       "2                  0.457113                      0.245921   \n",
       "3                  0.455007                      0.257770   \n",
       "4                  0.404523                      0.217305   \n",
       "\n",
       "   EXPOSICION_TOTAL_FA  VALOR_PROVISION  cobertura  target  \n",
       "0            3142.9200       520.328516   0.165556  Al dia  \n",
       "1           33364.3717      7956.298017   0.238467  Al dia  \n",
       "2          106599.3731     26970.279477   0.253006  Al dia  \n",
       "3          137366.7897     34997.765487   0.254776  Al dia  \n",
       "4           95085.2122     23860.250873   0.250935  Al dia  "
      ]
     },
     "execution_count": 2,
     "metadata": {},
     "output_type": "execute_result"
    }
   ],
   "source": [
    "datos = pd.read_csv('dataset_proyecto_analisis.csv')\n",
    "datos.head()"
   ]
  },
  {
   "cell_type": "markdown",
   "metadata": {},
   "source": [
    "# <b> Verificación de valores nulos </b>:\n",
    "Con base a esta inspección se aplicara la imputación <b>CCA</b> para las variables valores <br>\n",
    "nulos menores al 0.05 y para la DIAS_INCUMPLIMIENTO se aplicara la imputación <br> \n",
    "<b> Arbitrary_Imputation </b>, procedimientos que seran aplicados en el Pipeline"
   ]
  },
  {
   "cell_type": "code",
   "execution_count": 3,
   "metadata": {},
   "outputs": [
    {
     "data": {
      "text/plain": [
       "(BUCKET                          0.000000\n",
       " DIAS_MORA                       0.000000\n",
       " DIAS_INCUMPLIMIENTO             0.144866\n",
       " MET_CALCULO                     0.000000\n",
       " MARCA_DEFAULT                   0.000000\n",
       " PDI                             0.000000\n",
       " RANGO_SCORE_PN                  0.000067\n",
       " seg_PD12mes                     0.000067\n",
       " PD_12M_ACTUAL_FINAL             0.000000\n",
       " PD_12M_DESEMBOLSO_FINAL         0.000000\n",
       " PD_LIFETIME_ACTUAL_FINAL        0.000000\n",
       " PD_LIFETIME_DESEMBOLSO_FINAL    0.000000\n",
       " EXPOSICION_TOTAL_FA             0.000000\n",
       " VALOR_PROVISION                 0.000000\n",
       " cobertura                       0.000269\n",
       " target                          0.000000\n",
       " dtype: float64,\n",
       " (14862, 16))"
      ]
     },
     "execution_count": 3,
     "metadata": {},
     "output_type": "execute_result"
    }
   ],
   "source": [
    "datos.isnull().mean(), datos.shape"
   ]
  },
  {
   "cell_type": "markdown",
   "metadata": {},
   "source": [
    "# <b> Pipeline preprocesador de datos </b>"
   ]
  },
  {
   "cell_type": "code",
   "execution_count": 4,
   "metadata": {},
   "outputs": [
    {
     "name": "stderr",
     "output_type": "stream",
     "text": [
      "c:\\Users\\apatz\\anaconda3\\lib\\site-packages\\numpy\\core\\_methods.py:243: RuntimeWarning: overflow encountered in reduce\n",
      "  ret = umr_sum(x, axis, dtype, out, keepdims=keepdims, where=where)\n",
      "c:\\Users\\apatz\\anaconda3\\lib\\site-packages\\numpy\\core\\_methods.py:232: RuntimeWarning: overflow encountered in multiply\n",
      "  x = um.multiply(x, x, out=x)\n",
      "c:\\Users\\apatz\\anaconda3\\lib\\site-packages\\scipy\\optimize\\optimize.py:2149: RuntimeWarning: invalid value encountered in double_scalars\n",
      "  tmp2 = (x - v) * (fx - fw)\n",
      "c:\\Users\\apatz\\anaconda3\\lib\\site-packages\\numpy\\core\\_methods.py:243: RuntimeWarning: overflow encountered in reduce\n",
      "  ret = umr_sum(x, axis, dtype, out, keepdims=keepdims, where=where)\n",
      "c:\\Users\\apatz\\anaconda3\\lib\\site-packages\\numpy\\core\\_methods.py:232: RuntimeWarning: overflow encountered in multiply\n",
      "  x = um.multiply(x, x, out=x)\n",
      "c:\\Users\\apatz\\anaconda3\\lib\\site-packages\\numpy\\core\\_methods.py:243: RuntimeWarning: overflow encountered in reduce\n",
      "  ret = umr_sum(x, axis, dtype, out, keepdims=keepdims, where=where)\n",
      "c:\\Users\\apatz\\anaconda3\\lib\\site-packages\\scipy\\optimize\\optimize.py:2149: RuntimeWarning: invalid value encountered in double_scalars\n",
      "  tmp2 = (x - v) * (fx - fw)\n",
      "c:\\Users\\apatz\\anaconda3\\lib\\site-packages\\numpy\\core\\_methods.py:232: RuntimeWarning: overflow encountered in multiply\n",
      "  x = um.multiply(x, x, out=x)\n",
      "c:\\Users\\apatz\\anaconda3\\lib\\site-packages\\numpy\\core\\_methods.py:243: RuntimeWarning: overflow encountered in reduce\n",
      "  ret = umr_sum(x, axis, dtype, out, keepdims=keepdims, where=where)\n",
      "c:\\Users\\apatz\\anaconda3\\lib\\site-packages\\scipy\\optimize\\optimize.py:2149: RuntimeWarning: invalid value encountered in double_scalars\n",
      "  tmp2 = (x - v) * (fx - fw)\n"
     ]
    }
   ],
   "source": [
    "def instanciaPipeline(dataset, arbitrary, var_y):\n",
    "    \n",
    "    nums_cols_na = modules.getNanGoodCols(df=dataset, rate=0.05)\n",
    "    categoric_vars, discrete_vars, continues_vars = modules.getColumnsDataTypes(df=dataset)\n",
    "    categoric_vars.remove(var_y)\n",
    "\n",
    "    outliers_vars = categoric_vars + discrete_vars + continues_vars\n",
    "\n",
    "    feature_engineering_pipeline = Pipeline(steps=[\n",
    "        ('Complete_Case_Analysis', \n",
    "            pp.CompleteCaseAnalysis(varNames=nums_cols_na)\n",
    "        ),\n",
    "        ('Arbitrary_Imputation', \n",
    "            pp.ArbitraryImputation(varNames=arbitrary)\n",
    "        ),\n",
    "        ('Categorical_Encoder', \n",
    "            pp.CategoricalEncoderOperator(varNames=categoric_vars)\n",
    "        ),\n",
    "        ('OutliersTreatmentOperator', \n",
    "            pp.OutliersTreatmentOperator(varNames=outliers_vars)\n",
    "        )\n",
    "\n",
    "    ])\n",
    "\n",
    "    return feature_engineering_pipeline\n",
    "\n",
    "procesed_data = instanciaPipeline(dataset=datos, arbitrary='DIAS_INCUMPLIMIENTO', var_y='target').fit_transform(datos)\n",
    "procesed_data['target'] = pd.get_dummies(procesed_data['target'], drop_first=True)\n",
    "\n",
    "procesed_data.to_csv('dataset_proyecto_FE.csv', index=False)\n",
    "\n",
    "categoric_vars, discrete_vars, continues_vars = modules.getColumnsDataTypes(df=datos)\n",
    "var_transf = discrete_vars + continues_vars\n",
    "modules.transformations(procesed_data, var_transf, 'target')\n",
    "scaler = StandardScaler().fit(procesed_data.values)\n"
   ]
  },
  {
   "cell_type": "code",
   "execution_count": 5,
   "metadata": {},
   "outputs": [],
   "source": [
    "procesed_data.to_csv('dataset_proyecto_FE_2.csv', index=False)"
   ]
  }
 ],
 "metadata": {
  "kernelspec": {
   "display_name": "Python 3.8.8 ('base')",
   "language": "python",
   "name": "python3"
  },
  "language_info": {
   "codemirror_mode": {
    "name": "ipython",
    "version": 3
   },
   "file_extension": ".py",
   "mimetype": "text/x-python",
   "name": "python",
   "nbconvert_exporter": "python",
   "pygments_lexer": "ipython3",
   "version": "3.8.8"
  },
  "orig_nbformat": 4,
  "vscode": {
   "interpreter": {
    "hash": "721d5cc2a3432890c60d3b67ec7a8154d2297581962472e833721a025cc9dd92"
   }
  }
 },
 "nbformat": 4,
 "nbformat_minor": 2
}
