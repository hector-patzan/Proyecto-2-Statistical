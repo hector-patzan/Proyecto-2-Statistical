{
 "cells": [
  {
   "cell_type": "markdown",
   "metadata": {},
   "source": [
    "## <b>Carga de librerias </b>"
   ]
  },
  {
   "cell_type": "code",
   "execution_count": 1,
   "metadata": {},
   "outputs": [],
   "source": [
    "import numpy as np \n",
    "import pandas as pd \n",
    "import matplotlib.pyplot as plt\n",
    "import seaborn as sns \n",
    "\n",
    "# Modelos\n",
    "from sklearn.linear_model import LogisticRegression\n",
    "from sklearn.naive_bayes import GaussianNB\n",
    "from sklearn.svm import SVC\n",
    "from sklearn.ensemble import RandomForestClassifier\n",
    "from sklearn.tree import DecisionTreeClassifier\n",
    "from sklearn.neighbors import KNeighborsClassifier\n",
    "from sklearn.discriminant_analysis import LinearDiscriminantAnalysis\n",
    "from sklearn.discriminant_analysis import QuadraticDiscriminantAnalysis\n",
    "\n",
    "# Metricas\n",
    "from sklearn.metrics import roc_auc_score\n",
    "\n",
    "from sklearn.model_selection import GridSearchCV\n",
    "from sklearn.model_selection import train_test_split\n"
   ]
  },
  {
   "cell_type": "markdown",
   "metadata": {},
   "source": [
    "## <b> Carga de datos (FE): </b>"
   ]
  },
  {
   "cell_type": "code",
   "execution_count": 2,
   "metadata": {},
   "outputs": [
    {
     "data": {
      "text/html": [
       "<div>\n",
       "<style scoped>\n",
       "    .dataframe tbody tr th:only-of-type {\n",
       "        vertical-align: middle;\n",
       "    }\n",
       "\n",
       "    .dataframe tbody tr th {\n",
       "        vertical-align: top;\n",
       "    }\n",
       "\n",
       "    .dataframe thead th {\n",
       "        text-align: right;\n",
       "    }\n",
       "</style>\n",
       "<table border=\"1\" class=\"dataframe\">\n",
       "  <thead>\n",
       "    <tr style=\"text-align: right;\">\n",
       "      <th></th>\n",
       "      <th>BUCKET</th>\n",
       "      <th>DIAS_MORA</th>\n",
       "      <th>DIAS_INCUMPLIMIENTO</th>\n",
       "      <th>MET_CALCULO</th>\n",
       "      <th>MARCA_DEFAULT</th>\n",
       "      <th>PDI</th>\n",
       "      <th>RANGO_SCORE_PN</th>\n",
       "      <th>seg_PD12mes</th>\n",
       "      <th>PD_12M_ACTUAL_FINAL</th>\n",
       "      <th>PD_12M_DESEMBOLSO_FINAL</th>\n",
       "      <th>PD_LIFETIME_ACTUAL_FINAL</th>\n",
       "      <th>PD_LIFETIME_DESEMBOLSO_FINAL</th>\n",
       "      <th>EXPOSICION_TOTAL_FA</th>\n",
       "      <th>VALOR_PROVISION</th>\n",
       "      <th>cobertura</th>\n",
       "      <th>target</th>\n",
       "    </tr>\n",
       "  </thead>\n",
       "  <tbody>\n",
       "    <tr>\n",
       "      <th>0</th>\n",
       "      <td>1.0</td>\n",
       "      <td>0.0</td>\n",
       "      <td>0.0</td>\n",
       "      <td>1.67215</td>\n",
       "      <td>0.0</td>\n",
       "      <td>0.50798</td>\n",
       "      <td>1.00000</td>\n",
       "      <td>1.67215</td>\n",
       "      <td>0.325910</td>\n",
       "      <td>0.325910</td>\n",
       "      <td>0.304117</td>\n",
       "      <td>0.066976</td>\n",
       "      <td>1.67215</td>\n",
       "      <td>1.67215</td>\n",
       "      <td>0.165556</td>\n",
       "      <td>0</td>\n",
       "    </tr>\n",
       "    <tr>\n",
       "      <th>1</th>\n",
       "      <td>1.0</td>\n",
       "      <td>0.0</td>\n",
       "      <td>0.0</td>\n",
       "      <td>1.67215</td>\n",
       "      <td>0.0</td>\n",
       "      <td>0.50798</td>\n",
       "      <td>1.67215</td>\n",
       "      <td>1.67215</td>\n",
       "      <td>0.425376</td>\n",
       "      <td>0.425376</td>\n",
       "      <td>0.432310</td>\n",
       "      <td>0.220604</td>\n",
       "      <td>1.67215</td>\n",
       "      <td>1.67215</td>\n",
       "      <td>0.238467</td>\n",
       "      <td>0</td>\n",
       "    </tr>\n",
       "    <tr>\n",
       "      <th>2</th>\n",
       "      <td>1.0</td>\n",
       "      <td>0.0</td>\n",
       "      <td>0.0</td>\n",
       "      <td>1.67215</td>\n",
       "      <td>0.0</td>\n",
       "      <td>0.50798</td>\n",
       "      <td>1.67215</td>\n",
       "      <td>1.67215</td>\n",
       "      <td>0.445730</td>\n",
       "      <td>0.445730</td>\n",
       "      <td>0.457113</td>\n",
       "      <td>0.245921</td>\n",
       "      <td>1.67215</td>\n",
       "      <td>1.67215</td>\n",
       "      <td>0.253006</td>\n",
       "      <td>0</td>\n",
       "    </tr>\n",
       "    <tr>\n",
       "      <th>3</th>\n",
       "      <td>1.0</td>\n",
       "      <td>0.0</td>\n",
       "      <td>0.0</td>\n",
       "      <td>1.67215</td>\n",
       "      <td>0.0</td>\n",
       "      <td>0.50798</td>\n",
       "      <td>1.67215</td>\n",
       "      <td>1.67215</td>\n",
       "      <td>0.434547</td>\n",
       "      <td>0.434547</td>\n",
       "      <td>0.455007</td>\n",
       "      <td>0.257770</td>\n",
       "      <td>1.67215</td>\n",
       "      <td>1.67215</td>\n",
       "      <td>0.254776</td>\n",
       "      <td>0</td>\n",
       "    </tr>\n",
       "    <tr>\n",
       "      <th>4</th>\n",
       "      <td>1.0</td>\n",
       "      <td>0.0</td>\n",
       "      <td>0.0</td>\n",
       "      <td>1.67215</td>\n",
       "      <td>0.0</td>\n",
       "      <td>0.50798</td>\n",
       "      <td>1.67215</td>\n",
       "      <td>1.67215</td>\n",
       "      <td>0.343117</td>\n",
       "      <td>0.343117</td>\n",
       "      <td>0.404523</td>\n",
       "      <td>0.217305</td>\n",
       "      <td>1.67215</td>\n",
       "      <td>1.67215</td>\n",
       "      <td>0.250935</td>\n",
       "      <td>0</td>\n",
       "    </tr>\n",
       "  </tbody>\n",
       "</table>\n",
       "</div>"
      ],
      "text/plain": [
       "   BUCKET  DIAS_MORA  DIAS_INCUMPLIMIENTO  MET_CALCULO  MARCA_DEFAULT  \\\n",
       "0     1.0        0.0                  0.0      1.67215            0.0   \n",
       "1     1.0        0.0                  0.0      1.67215            0.0   \n",
       "2     1.0        0.0                  0.0      1.67215            0.0   \n",
       "3     1.0        0.0                  0.0      1.67215            0.0   \n",
       "4     1.0        0.0                  0.0      1.67215            0.0   \n",
       "\n",
       "       PDI  RANGO_SCORE_PN  seg_PD12mes  PD_12M_ACTUAL_FINAL  \\\n",
       "0  0.50798         1.00000      1.67215             0.325910   \n",
       "1  0.50798         1.67215      1.67215             0.425376   \n",
       "2  0.50798         1.67215      1.67215             0.445730   \n",
       "3  0.50798         1.67215      1.67215             0.434547   \n",
       "4  0.50798         1.67215      1.67215             0.343117   \n",
       "\n",
       "   PD_12M_DESEMBOLSO_FINAL  PD_LIFETIME_ACTUAL_FINAL  \\\n",
       "0                 0.325910                  0.304117   \n",
       "1                 0.425376                  0.432310   \n",
       "2                 0.445730                  0.457113   \n",
       "3                 0.434547                  0.455007   \n",
       "4                 0.343117                  0.404523   \n",
       "\n",
       "   PD_LIFETIME_DESEMBOLSO_FINAL  EXPOSICION_TOTAL_FA  VALOR_PROVISION  \\\n",
       "0                      0.066976              1.67215          1.67215   \n",
       "1                      0.220604              1.67215          1.67215   \n",
       "2                      0.245921              1.67215          1.67215   \n",
       "3                      0.257770              1.67215          1.67215   \n",
       "4                      0.217305              1.67215          1.67215   \n",
       "\n",
       "   cobertura  target  \n",
       "0   0.165556       0  \n",
       "1   0.238467       0  \n",
       "2   0.253006       0  \n",
       "3   0.254776       0  \n",
       "4   0.250935       0  "
      ]
     },
     "execution_count": 2,
     "metadata": {},
     "output_type": "execute_result"
    }
   ],
   "source": [
    "dataset = pd.read_csv('dataset_proyecto_FE.csv')\n",
    "dataset.head()"
   ]
  },
  {
   "cell_type": "code",
   "execution_count": 3,
   "metadata": {},
   "outputs": [],
   "source": [
    "X = dataset.drop(['target'], axis=1)\n",
    "y = dataset['target']\n",
    "X_train, X_test, y_train, y_test = train_test_split(X, y, test_size=0.3, shuffle=True, random_state=2022)"
   ]
  },
  {
   "cell_type": "markdown",
   "metadata": {},
   "source": [
    "## <b> Configuración de modelos (Hiperparametros) </b>"
   ]
  },
  {
   "cell_type": "code",
   "execution_count": 4,
   "metadata": {},
   "outputs": [
    {
     "name": "stderr",
     "output_type": "stream",
     "text": [
      "c:\\Users\\apatz\\anaconda3\\lib\\site-packages\\sklearn\\discriminant_analysis.py:808: UserWarning: Variables are collinear\n",
      "  warnings.warn(\"Variables are collinear\")\n",
      "c:\\Users\\apatz\\anaconda3\\lib\\site-packages\\sklearn\\discriminant_analysis.py:808: UserWarning: Variables are collinear\n",
      "  warnings.warn(\"Variables are collinear\")\n",
      "c:\\Users\\apatz\\anaconda3\\lib\\site-packages\\sklearn\\discriminant_analysis.py:808: UserWarning: Variables are collinear\n",
      "  warnings.warn(\"Variables are collinear\")\n",
      "c:\\Users\\apatz\\anaconda3\\lib\\site-packages\\sklearn\\discriminant_analysis.py:808: UserWarning: Variables are collinear\n",
      "  warnings.warn(\"Variables are collinear\")\n",
      "c:\\Users\\apatz\\anaconda3\\lib\\site-packages\\sklearn\\discriminant_analysis.py:808: UserWarning: Variables are collinear\n",
      "  warnings.warn(\"Variables are collinear\")\n",
      "c:\\Users\\apatz\\anaconda3\\lib\\site-packages\\sklearn\\discriminant_analysis.py:808: UserWarning: Variables are collinear\n",
      "  warnings.warn(\"Variables are collinear\")\n",
      "c:\\Users\\apatz\\anaconda3\\lib\\site-packages\\sklearn\\discriminant_analysis.py:808: UserWarning: Variables are collinear\n",
      "  warnings.warn(\"Variables are collinear\")\n",
      "c:\\Users\\apatz\\anaconda3\\lib\\site-packages\\sklearn\\discriminant_analysis.py:808: UserWarning: Variables are collinear\n",
      "  warnings.warn(\"Variables are collinear\")\n",
      "c:\\Users\\apatz\\anaconda3\\lib\\site-packages\\sklearn\\discriminant_analysis.py:808: UserWarning: Variables are collinear\n",
      "  warnings.warn(\"Variables are collinear\")\n",
      "c:\\Users\\apatz\\anaconda3\\lib\\site-packages\\sklearn\\discriminant_analysis.py:808: UserWarning: Variables are collinear\n",
      "  warnings.warn(\"Variables are collinear\")\n",
      "c:\\Users\\apatz\\anaconda3\\lib\\site-packages\\sklearn\\discriminant_analysis.py:808: UserWarning: Variables are collinear\n",
      "  warnings.warn(\"Variables are collinear\")\n"
     ]
    }
   ],
   "source": [
    "svm = GridSearchCV(SVC(), {'C': [0.1, 1, 10, 100], 'kernel':['linear', 'rbf']}, cv=10).fit(X_train, y_train)\n",
    "randomForest = GridSearchCV(RandomForestClassifier(), {'n_estimators':[20,50,100],\n",
    "                                                        'max_depth': [10,100]}).fit(X_train, y_train)\n",
    "\n",
    "lr = GridSearchCV(LogisticRegression(),{'penalty':['none']}, cv=10).fit(X_train, y_train)\n",
    "\n",
    "dt = GridSearchCV(DecisionTreeClassifier(), {'criterion':[\"gini\"], 'max_depth':[4]}, cv=10).fit(X_train, y_train)\n",
    "\n",
    "knn = GridSearchCV(KNeighborsClassifier(), {'n_neighbors':[3,5]}, cv=10).fit(X_train, y_train)\n",
    "\n",
    "lda = GridSearchCV(LinearDiscriminantAnalysis(), {'solver':['svd'], 'store_covariance':[True]}, cv=10).fit(X_train, y_train)\n",
    "\n",
    "qda = GridSearchCV(QuadraticDiscriminantAnalysis(), {'store_covariance':[True]}, cv=10).fit(X_train, y_train)"
   ]
  },
  {
   "cell_type": "markdown",
   "metadata": {},
   "source": [
    "## <b> Resultados </b>"
   ]
  },
  {
   "cell_type": "code",
   "execution_count": 5,
   "metadata": {},
   "outputs": [],
   "source": [
    "svmResults = pd.DataFrame(svm.cv_results_).sort_values('rank_test_score', ascending=True) \n",
    "randomForest = pd.DataFrame(randomForest.cv_results_).sort_values('rank_test_score', ascending=True) \n",
    "lr = pd.DataFrame(lr.cv_results_).sort_values('rank_test_score', ascending=True) \n",
    "dt = pd.DataFrame(dt.cv_results_).sort_values('rank_test_score', ascending=True) \n",
    "knn = pd.DataFrame(knn.cv_results_).sort_values('rank_test_score', ascending=True) \n",
    "lda = pd.DataFrame(lda.cv_results_).sort_values('rank_test_score', ascending=True) \n",
    "qda = pd.DataFrame(qda.cv_results_).sort_values('rank_test_score', ascending=True) "
   ]
  },
  {
   "cell_type": "markdown",
   "metadata": {},
   "source": [
    "## <b>Video </b>\n",
    "https://youtu.be/MbL0Z3BCQZM"
   ]
  }
 ],
 "metadata": {
  "kernelspec": {
   "display_name": "Python 3.8.8 ('base')",
   "language": "python",
   "name": "python3"
  },
  "language_info": {
   "codemirror_mode": {
    "name": "ipython",
    "version": 3
   },
   "file_extension": ".py",
   "mimetype": "text/x-python",
   "name": "python",
   "nbconvert_exporter": "python",
   "pygments_lexer": "ipython3",
   "version": "3.8.8"
  },
  "orig_nbformat": 4,
  "vscode": {
   "interpreter": {
    "hash": "721d5cc2a3432890c60d3b67ec7a8154d2297581962472e833721a025cc9dd92"
   }
  }
 },
 "nbformat": 4,
 "nbformat_minor": 2
}
